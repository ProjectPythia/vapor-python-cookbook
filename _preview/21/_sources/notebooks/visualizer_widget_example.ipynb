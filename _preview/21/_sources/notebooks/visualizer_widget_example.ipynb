{
 "cells": [
  {
   "cell_type": "markdown",
   "id": "5b88d319",
   "metadata": {
    "lines_to_next_cell": 0,
    "region_name": "md"
   },
   "source": [
    "\n",
    "# Visualizer Widgets\n",
    "\n",
    "Visualizer widgets allow you to interactively explore a session as you would in a Vapor GUI visualizer.\n",
    "This notebook shows how to use visualizer widgets and how to add additional dynamic parameter inputs.\n"
   ]
  },
  {
   "cell_type": "markdown",
   "id": "0e07b6ce",
   "metadata": {},
   "source": [
    "*Note: Widgets require an active kernel to operate. To try it out, run this notebook on your local machine.*"
   ]
  },
  {
   "cell_type": "code",
   "execution_count": 1,
   "id": "56d9ec34",
   "metadata": {
    "execution": {
     "iopub.execute_input": "2023-06-22T17:22:12.358975Z",
     "iopub.status.busy": "2023-06-22T17:22:12.358610Z",
     "iopub.status.idle": "2023-06-22T17:22:19.028376Z",
     "shell.execute_reply": "2023-06-22T17:22:19.027662Z"
    }
   },
   "outputs": [
    {
     "name": "stderr",
     "output_type": "stream",
     "text": [
      "Warning: sysroot \"/Applications/Xcode_12.4.app/Contents/Developer/Platforms/MacOSX.platform/Developer/SDKs/MacOSX.sdk\" not found (ignoring for now)."
     ]
    },
    {
     "name": "stdout",
     "output_type": "stream",
     "text": [
      "Vapor 3.9.3\n",
      "Python 3.9.19 (/opt/anaconda3/envs/vapor)\n",
      "OpenGL 4.1 Metal - 83.1\n"
     ]
    }
   ],
   "source": [
    "import example_utils\n",
    "from vapor import session, renderer, dataset, camera\n",
    "\n",
    "ses = session.Session()\n",
    "data = example_utils.OpenExampleDataset(ses)"
   ]
  },
  {
   "cell_type": "markdown",
   "id": "370a6c24",
   "metadata": {
    "lines_to_next_cell": 0,
    "region_name": "md"
   },
   "source": [
    "\n",
    "## Render an Iso Surface\n"
   ]
  },
  {
   "cell_type": "code",
   "execution_count": 2,
   "id": "f3a3f641",
   "metadata": {
    "execution": {
     "iopub.execute_input": "2023-06-22T17:22:19.031447Z",
     "iopub.status.busy": "2023-06-22T17:22:19.031110Z",
     "iopub.status.idle": "2023-06-22T17:22:19.552631Z",
     "shell.execute_reply": "2023-06-22T17:22:19.551970Z"
    }
   },
   "outputs": [
    {
     "name": "stderr",
     "output_type": "stream",
     "text": [
      "UNSUPPORTED (log once): POSSIBLE ISSUE: unit 2 GLD_TEXTURE_INDEX_3D is unloadable and bound to sampler type (Float) - using zero texture because texture unloadable\n"
     ]
    },
    {
     "data": {
      "image/png": "[encoded data removed]",
      "text/plain": [
       "<PIL.Image.Image image mode=RGB size=600x480>"
      ]
     },
     "metadata": {},
     "output_type": "display_data"
    }
   ],
   "source": [
    "ren = data.NewRenderer(renderer.VolumeIsoRenderer)\n",
    "ren.SetVariableName(data.GetDataVarNames(3)[0]) # Set to first 2D data variable\n",
    "ren.SetIsoValues([ren.GetIsoValues()[0]+0.1])\n",
    "\n",
    "ses.GetCamera().ViewAll()\n",
    "ses.Show()"
   ]
  },
  {
   "cell_type": "markdown",
   "id": "7dab5091",
   "metadata": {
    "lines_to_next_cell": 0,
    "region_name": "md"
   },
   "source": [
    "\n",
    "## Create a visualizer to explore the scene\n",
    "\n",
    "Try dragging the image to rotate the view.\n",
    "Hover over the visualizer to see the full controls.\n"
   ]
  },
  {
   "cell_type": "code",
   "execution_count": 3,
   "id": "3225350e",
   "metadata": {
    "execution": {
     "iopub.execute_input": "2023-06-22T17:22:19.556956Z",
     "iopub.status.busy": "2023-06-22T17:22:19.556662Z",
     "iopub.status.idle": "2023-06-22T17:22:19.703405Z",
     "shell.execute_reply": "2023-06-22T17:22:19.702682Z"
    }
   },
   "outputs": [
    {
     "data": {
      "application/vnd.jupyter.widget-view+json": {
       "model_id": "0805dc90a52041f9bfc8fe10ec67e3a5",
       "version_major": 2,
       "version_minor": 0
      },
      "text/plain": [
       "VaporVisualizerWidget(imageData='/9j/4AAQSkZJRgABAQAAAQABAAD/2wBDAAgGBgcGBQgHBwcJCQgKDBQNDAsLDBkSEw8UHRofHh0aH…"
      ]
     },
     "execution_count": 3,
     "metadata": {},
     "output_type": "execute_result"
    }
   ],
   "source": [
    "from jupyter_vapor_widget import *\n",
    "\n",
    "viz = VaporVisualizerWidget(ses)\n",
    "viz"
   ]
  },
  {
   "cell_type": "markdown",
   "id": "0f6ba9b2",
   "metadata": {
    "lines_to_next_cell": 0,
    "region_name": "md"
   },
   "source": [
    "\n",
    "## Add an interactive iso value slider using **ipywidgets**\n"
   ]
  },
  {
   "cell_type": "code",
   "execution_count": 4,
   "id": "9a266821",
   "metadata": {
    "execution": {
     "iopub.execute_input": "2023-06-22T17:22:19.706422Z",
     "iopub.status.busy": "2023-06-22T17:22:19.706166Z",
     "iopub.status.idle": "2023-06-22T17:22:19.766103Z",
     "shell.execute_reply": "2023-06-22T17:22:19.765280Z"
    }
   },
   "outputs": [
    {
     "data": {
      "application/vnd.jupyter.widget-view+json": {
       "model_id": "d2896699effa4680a773e37ae4930c6a",
       "version_major": 2,
       "version_minor": 0
      },
      "text/plain": [
       "VBox(children=(VaporVisualizerWidget(imageData='/9j/4AAQSkZJRgABAQAAAQABAAD/2wBDAAgGBgcGBQgHBwcJCQgKDBQNDAsLDB…"
      ]
     },
     "execution_count": 4,
     "metadata": {},
     "output_type": "execute_result"
    }
   ],
   "source": [
    "tf = ren.GetPrimaryTransferFunction()\n",
    "dataRange = tf.GetMinMaxMapValue()\n",
    "\n",
    "def sliderChanged(change):\n",
    "    ren.SetIsoValues([change.new])\n",
    "    viz.Render(fast=True)\n",
    "\n",
    "slider = widgets.FloatSlider(value=ren.GetIsoValues()[0], min=dataRange[0], max=dataRange[1], step=(dataRange[1]-dataRange[0])/100)\n",
    "slider.observe(sliderChanged, names='value')\n",
    "\n",
    "widgets.VBox([\n",
    "    viz,\n",
    "    widgets.HBox([widgets.Label(\"Iso value:\"), slider])\n",
    "])"
   ]
  }
 ],
 "metadata": {
  "jupytext": {
   "cell_metadata_filter": "region_name,-all",
   "main_language": "python",
   "notebook_metadata_filter": "-all"
  },
  "kernelspec": {
   "display_name": "vapor-cookbook-dev",
   "language": "python",
   "name": "python3"
  },
  "language_info": {
   "codemirror_mode": {
    "name": "ipython",
    "version": 3
   },
   "file_extension": ".py",
   "mimetype": "text/x-python",
   "name": "python",
   "nbconvert_exporter": "python",
   "pygments_lexer": "ipython3",
   "version": "3.9.19"
  },
  "widgets": {
   "application/vnd.jupyter.widget-state+json": {
    "state": {
     "112085df108f46bebdfcb864a9cf1fcf": {
      "model_module": "@jupyter-widgets/base",
      "model_module_version": "2.0.0",
      "model_name": "LayoutModel",
      "state": {
       "_model_module": "@jupyter-widgets/base",
       "_model_module_version": "2.0.0",
       "_model_name": "LayoutModel",
       "_view_count": null,
       "_view_module": "@jupyter-widgets/base",
       "_view_module_version": "2.0.0",
       "_view_name": "LayoutView",
       "align_content": null,
       "align_items": null,
       "align_self": null,
       "border_bottom": null,
       "border_left": null,
       "border_right": null,
       "border_top": null,
       "bottom": null,
       "display": null,
       "flex": null,
       "flex_flow": null,
       "grid_area": null,
       "grid_auto_columns": null,
       "grid_auto_flow": null,
       "grid_auto_rows": null,
       "grid_column": null,
       "grid_gap": null,
       "grid_row": null,
       "grid_template_areas": null,
       "grid_template_columns": null,
       "grid_template_rows": null,
       "height": null,
       "justify_content": null,
       "justify_items": null,
       "left": null,
       "margin": null,
       "max_height": null,
       "max_width": null,
       "min_height": null,
       "min_width": null,
       "object_fit": null,
       "object_position": null,
       "order": null,
       "overflow": null,
       "padding": null,
       "right": null,
       "top": null,
       "visibility": null,
       "width": null
      }
     },
     "2567773354914a73814d12ffff3bb409": {
      "model_module": "@jupyter-widgets/base",
      "model_module_version": "2.0.0",
      "model_name": "LayoutModel",
      "state": {
       "_model_module": "@jupyter-widgets/base",
       "_model_module_version": "2.0.0",
       "_model_name": "LayoutModel",
       "_view_count": null,
       "_view_module": "@jupyter-widgets/base",
       "_view_module_version": "2.0.0",
       "_view_name": "LayoutView",
       "align_content": null,
       "align_items": null,
       "align_self": null,
       "border_bottom": null,
       "border_left": null,
       "border_right": null,
       "border_top": null,
       "bottom": null,
       "display": null,
       "flex": null,
       "flex_flow": null,
       "grid_area": null,
       "grid_auto_columns": null,
       "grid_auto_flow": null,
       "grid_auto_rows": null,
       "grid_column": null,
       "grid_gap": null,
       "grid_row": null,
       "grid_template_areas": null,
       "grid_template_columns": null,
       "grid_template_rows": null,
       "height": null,
       "justify_content": null,
       "justify_items": null,
       "left": null,
       "margin": null,
       "max_height": null,
       "max_width": null,
       "min_height": null,
       "min_width": null,
       "object_fit": null,
       "object_position": null,
       "order": null,
       "overflow": null,
       "padding": null,
       "right": null,
       "top": null,
       "visibility": null,
       "width": null
      }
     },
     "3e26236bc76e43218f70dca961e2dff8": {
      "model_module": "@jupyter-widgets/controls",
      "model_module_version": "2.0.0",
      "model_name": "SliderStyleModel",
      "state": {
       "_model_module": "@jupyter-widgets/controls",
       "_model_module_version": "2.0.0",
       "_model_name": "SliderStyleModel",
       "_view_count": null,
       "_view_module": "@jupyter-widgets/base",
       "_view_module_version": "2.0.0",
       "_view_name": "StyleView",
       "description_width": "",
       "handle_color": null
      }
     },
     "45c3938894364cb9ae7ed64ec25b45c8": {
      "model_module": "@jupyter-widgets/controls",
      "model_module_version": "2.0.0",
      "model_name": "LabelStyleModel",
      "state": {
       "_model_module": "@jupyter-widgets/controls",
       "_model_module_version": "2.0.0",
       "_model_name": "LabelStyleModel",
       "_view_count": null,
       "_view_module": "@jupyter-widgets/base",
       "_view_module_version": "2.0.0",
       "_view_name": "StyleView",
       "background": null,
       "description_width": "",
       "font_family": null,
       "font_size": null,
       "font_style": null,
       "font_variant": null,
       "font_weight": null,
       "text_color": null,
       "text_decoration": null
      }
     },
     "8f28c7776a734095bbefaa9cf93ab3f3": {
      "model_module": "@jupyter-widgets/controls",
      "model_module_version": "2.0.0",
      "model_name": "HBoxModel",
      "state": {
       "_dom_classes": [],
       "_model_module": "@jupyter-widgets/controls",
       "_model_module_version": "2.0.0",
       "_model_name": "HBoxModel",
       "_view_count": null,
       "_view_module": "@jupyter-widgets/controls",
       "_view_module_version": "2.0.0",
       "_view_name": "HBoxView",
       "box_style": "",
       "children": [
        "IPY_MODEL_9be227e8aaef497ab3bb1030a11bcb65",
        "IPY_MODEL_d7f202bf103a4c03be41869256f8613d"
       ],
       "layout": "IPY_MODEL_954f7385cd924f8cb7767c88ad6b4223",
       "tabbable": null,
       "tooltip": null
      }
     },
     "904a361fbc14464abaa7b9c018264c65": {
      "model_module": "@jupyter-widgets/controls",
      "model_module_version": "2.0.0",
      "model_name": "VBoxModel",
      "state": {
       "_dom_classes": [],
       "_model_module": "@jupyter-widgets/controls",
       "_model_module_version": "2.0.0",
       "_model_name": "VBoxModel",
       "_view_count": null,
       "_view_module": "@jupyter-widgets/controls",
       "_view_module_version": "2.0.0",
       "_view_name": "VBoxView",
       "box_style": "",
       "children": [
        "IPY_MODEL_b4c9cd9333294bbfbaf4918ea8b1a4dd",
        "IPY_MODEL_8f28c7776a734095bbefaa9cf93ab3f3"
       ],
       "layout": "IPY_MODEL_2567773354914a73814d12ffff3bb409",
       "tabbable": null,
       "tooltip": null
      }
     },
     "954f7385cd924f8cb7767c88ad6b4223": {
      "model_module": "@jupyter-widgets/base",
      "model_module_version": "2.0.0",
      "model_name": "LayoutModel",
      "state": {
       "_model_module": "@jupyter-widgets/base",
       "_model_module_version": "2.0.0",
       "_model_name": "LayoutModel",
       "_view_count": null,
       "_view_module": "@jupyter-widgets/base",
       "_view_module_version": "2.0.0",
       "_view_name": "LayoutView",
       "align_content": null,
       "align_items": null,
       "align_self": null,
       "border_bottom": null,
       "border_left": null,
       "border_right": null,
       "border_top": null,
       "bottom": null,
       "display": null,
       "flex": null,
       "flex_flow": null,
       "grid_area": null,
       "grid_auto_columns": null,
       "grid_auto_flow": null,
       "grid_auto_rows": null,
       "grid_column": null,
       "grid_gap": null,
       "grid_row": null,
       "grid_template_areas": null,
       "grid_template_columns": null,
       "grid_template_rows": null,
       "height": null,
       "justify_content": null,
       "justify_items": null,
       "left": null,
       "margin": null,
       "max_height": null,
       "max_width": null,
       "min_height": null,
       "min_width": null,
       "object_fit": null,
       "object_position": null,
       "order": null,
       "overflow": null,
       "padding": null,
       "right": null,
       "top": null,
       "visibility": null,
       "width": null
      }
     },
     "9be227e8aaef497ab3bb1030a11bcb65": {
      "model_module": "@jupyter-widgets/controls",
      "model_module_version": "2.0.0",
      "model_name": "LabelModel",
      "state": {
       "_dom_classes": [],
       "_model_module": "@jupyter-widgets/controls",
       "_model_module_version": "2.0.0",
       "_model_name": "LabelModel",
       "_view_count": null,
       "_view_module": "@jupyter-widgets/controls",
       "_view_module_version": "2.0.0",
       "_view_name": "LabelView",
       "description": "",
       "description_allow_html": false,
       "layout": "IPY_MODEL_b243602aa54445deb2d798d9d7cae0a2",
       "placeholder": "​",
       "style": "IPY_MODEL_45c3938894364cb9ae7ed64ec25b45c8",
       "tabbable": null,
       "tooltip": null,
       "value": "Iso value:"
      }
     },
     "b243602aa54445deb2d798d9d7cae0a2": {
      "model_module": "@jupyter-widgets/base",
      "model_module_version": "2.0.0",
      "model_name": "LayoutModel",
      "state": {
       "_model_module": "@jupyter-widgets/base",
       "_model_module_version": "2.0.0",
       "_model_name": "LayoutModel",
       "_view_count": null,
       "_view_module": "@jupyter-widgets/base",
       "_view_module_version": "2.0.0",
       "_view_name": "LayoutView",
       "align_content": null,
       "align_items": null,
       "align_self": null,
       "border_bottom": null,
       "border_left": null,
       "border_right": null,
       "border_top": null,
       "bottom": null,
       "display": null,
       "flex": null,
       "flex_flow": null,
       "grid_area": null,
       "grid_auto_columns": null,
       "grid_auto_flow": null,
       "grid_auto_rows": null,
       "grid_column": null,
       "grid_gap": null,
       "grid_row": null,
       "grid_template_areas": null,
       "grid_template_columns": null,
       "grid_template_rows": null,
       "height": null,
       "justify_content": null,
       "justify_items": null,
       "left": null,
       "margin": null,
       "max_height": null,
       "max_width": null,
       "min_height": null,
       "min_width": null,
       "object_fit": null,
       "object_position": null,
       "order": null,
       "overflow": null,
       "padding": null,
       "right": null,
       "top": null,
       "visibility": null,
       "width": null
      }
     },
     "b4c9cd9333294bbfbaf4918ea8b1a4dd": {
      "model_module": "jupyter-vapor-widget",
      "model_module_version": "^1.0",
      "model_name": "VaporVisualizerModel",
      "state": {
       "_dom_classes": [],
       "_model_module": "jupyter-vapor-widget",
       "_model_module_version": "^1.0",
       "_model_name": "VaporVisualizerModel",
       "_view_count": null,
       "_view_module": "jupyter-vapor-widget",
       "_view_module_version": "^1.0",
       "_view_name": "VaporVisualizerView",
       "imageData": "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",
       "imageFormat": "jpeg",
       "layout": "IPY_MODEL_b72da1c0e1214d0d9bb7349dec472a6f",
       "mouseButton": 1,
       "mouseDown": false,
       "mousePos": [
        0,
        0
       ],
       "resolution": [
        600,
        480
       ],
       "tabbable": null,
       "tooltip": null,
       "value": "Visualizer is here"
      }
     },
     "b72da1c0e1214d0d9bb7349dec472a6f": {
      "model_module": "@jupyter-widgets/base",
      "model_module_version": "2.0.0",
      "model_name": "LayoutModel",
      "state": {
       "_model_module": "@jupyter-widgets/base",
       "_model_module_version": "2.0.0",
       "_model_name": "LayoutModel",
       "_view_count": null,
       "_view_module": "@jupyter-widgets/base",
       "_view_module_version": "2.0.0",
       "_view_name": "LayoutView",
       "align_content": null,
       "align_items": null,
       "align_self": null,
       "border_bottom": null,
       "border_left": null,
       "border_right": null,
       "border_top": null,
       "bottom": null,
       "display": null,
       "flex": null,
       "flex_flow": null,
       "grid_area": null,
       "grid_auto_columns": null,
       "grid_auto_flow": null,
       "grid_auto_rows": null,
       "grid_column": null,
       "grid_gap": null,
       "grid_row": null,
       "grid_template_areas": null,
       "grid_template_columns": null,
       "grid_template_rows": null,
       "height": null,
       "justify_content": null,
       "justify_items": null,
       "left": null,
       "margin": null,
       "max_height": null,
       "max_width": null,
       "min_height": null,
       "min_width": null,
       "object_fit": null,
       "object_position": null,
       "order": null,
       "overflow": null,
       "padding": null,
       "right": null,
       "top": null,
       "visibility": null,
       "width": null
      }
     },
     "d7f202bf103a4c03be41869256f8613d": {
      "model_module": "@jupyter-widgets/controls",
      "model_module_version": "2.0.0",
      "model_name": "FloatSliderModel",
      "state": {
       "_dom_classes": [],
       "_model_module": "@jupyter-widgets/controls",
       "_model_module_version": "2.0.0",
       "_model_name": "FloatSliderModel",
       "_view_count": null,
       "_view_module": "@jupyter-widgets/controls",
       "_view_module_version": "2.0.0",
       "_view_name": "FloatSliderView",
       "behavior": "drag-tap",
       "continuous_update": true,
       "description": "",
       "description_allow_html": false,
       "disabled": false,
       "layout": "IPY_MODEL_112085df108f46bebdfcb864a9cf1fcf",
       "max": 0.3319709300994873,
       "min": -0.3319709300994873,
       "orientation": "horizontal",
       "readout": true,
       "readout_format": ".2f",
       "step": 0.0066394186019897465,
       "style": "IPY_MODEL_3e26236bc76e43218f70dca961e2dff8",
       "tabbable": null,
       "tooltip": null,
       "value": 0.1
      }
     }
    },
    "version_major": 2,
    "version_minor": 0
   }
  }
 },
 "nbformat": 4,
 "nbformat_minor": 5
}
