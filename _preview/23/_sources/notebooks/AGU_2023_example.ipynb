{
 "cells": [
  {
   "cell_type": "markdown",
   "id": "acae1085-f71a-48d1-af7e-510bd9f16d1e",
   "metadata": {},
   "source": [
    "# AGU 2023 Tutorial: Visualizing 2D and 3D Geoscience Data in Python\n",
    "## Set \"homeDir\" to example data directory\n",
    "## [Download example data here](https://drive.google.com/file/d/1ROJ4lSDjiZPy_iUefTFc372kOoLnr9aL/view?usp=sharing)"
   ]
  },
  {
   "cell_type": "code",
   "execution_count": 1,
   "id": "c7c6bf55-28fc-402c-8894-1c9fd0aaa851",
   "metadata": {},
   "outputs": [],
   "source": [
    "#homeDir = \"/Users/pearse/Examples/AGU2023\"\n",
    "homeDir = \"/Users/pearse/Downloads/AGU2023\""
   ]
  },
  {
   "cell_type": "markdown",
   "id": "5cdcb29b-c90c-47df-b33b-595b19512344",
   "metadata": {},
   "source": [
    "## Create a new Session"
   ]
  },
  {
   "cell_type": "code",
   "execution_count": 2,
   "id": "ebb8a69f-910b-4c3e-9759-d887cc3bf93b",
   "metadata": {},
   "outputs": [
    {
     "name": "stderr",
     "output_type": "stream",
     "text": [
      "Warning: sysroot \"/Applications/Xcode_12.4.app/Contents/Developer/Platforms/MacOSX.platform/Developer/SDKs/MacOSX.sdk\" not found (ignoring for now)."
     ]
    },
    {
     "name": "stdout",
     "output_type": "stream",
     "text": [
      "Vapor 3.9.0\n",
      "Python 3.9.18 (/Users/pearse/miniconda3/envs/3.9.1)\n",
      "OpenGL 4.1 Metal - 83.1\n"
     ]
    }
   ],
   "source": [
    "from vapor import session\n",
    "ses = session.Session()"
   ]
  },
  {
   "cell_type": "markdown",
   "id": "55f13b06-c733-415e-ab7c-54f78823d524",
   "metadata": {},
   "source": [
    "## Find documentation"
   ]
  },
  {
   "cell_type": "code",
   "execution_count": 3,
   "id": "23e46a93-4f36-4993-b74f-b33cad1e2591",
   "metadata": {},
   "outputs": [
    {
     "name": "stdout",
     "output_type": "stream",
     "text": [
      "Help on class Session in module vapor.session:\n",
      "\n",
      "class Session(cppyy.gbl.Session)\n",
      " |  Method resolution order:\n",
      " |      Session\n",
      " |      cppyy.gbl.Session\n",
      " |      cppyy.gbl.CPPInstance\n",
      " |      builtins.object\n",
      " |  \n",
      " |  Methods defined here:\n",
      " |  \n",
      " |  CreatePythonDataset(self)\n",
      " |      Creates a python dataset or returns one if it already exists for the current session.\n",
      " |  \n",
      " |  DeleteRenderer(self, renderer: vapor.renderer.Renderer)\n",
      " |      void Session::DeleteRenderer(String name)\n",
      " |  \n",
      " |  GetAxisAnnotations(self) -> vapor.annotations.AxisAnnotation\n",
      " |  \n",
      " |  GetCamera(self)\n",
      " |  \n",
      " |  GetDataset(self, name) -> vapor.dataset.Dataset\n",
      " |  \n",
      " |  GetDatasets(self)\n",
      " |  \n",
      " |  GetRenderer(self, name)\n",
      " |  \n",
      " |  GetRenderers(self) -> list[vapor.renderer.Renderer]\n",
      " |  \n",
      " |  GetSceneAnnotations(self) -> vapor.annotations.SceneAnnotation\n",
      " |  \n",
      " |  NewRenderer(self, Class: vapor.renderer.Renderer, datasetName: str) -> vapor.renderer.Renderer\n",
      " |      std::string Session::NewRenderer(String type, String dataset = \"\")\n",
      " |  \n",
      " |  OpenDataset(self, datasetType: str, files: list[str])\n",
      " |      Open a dataset of type datasetType from a list of files.\n",
      " |      A list of supported dataset types can be retrieved from Dataset.GetDatasetTypes()\n",
      " |  \n",
      " |  RenderToImage(self, fast=False) -> <module 'PIL.Image' from '/Users/pearse/miniconda3/envs/3.9.1/lib/python3.9/site-packages/PIL/Image.py'>\n",
      " |  \n",
      " |  SetResolution(self, width, height)\n",
      " |  \n",
      " |  Show(self)\n",
      " |  \n",
      " |  __init__(self)\n",
      " |      Session::Session()\n",
      " |      Session::Session(const Session&)\n",
      " |  \n",
      " |  getAnimationParams(...)\n",
      " |      AnimationParams* __cppyy_internal::Dispatcher1::getAnimationParams()\n",
      " |  \n",
      " |  getGUIStateParams(...)\n",
      " |      GUIStateParams* __cppyy_internal::Dispatcher1::getGUIStateParams()\n",
      " |  \n",
      " |  getParamsDatasetInfo(...)\n",
      " |      void __cppyy_internal::Dispatcher1::getParamsDatasetInfo(std::string arg0, std::string* arg1, std::vector<std::string>* arg2)\n",
      " |  \n",
      " |  getSettingsParams(...)\n",
      " |      SettingsParams* __cppyy_internal::Dispatcher1::getSettingsParams()\n",
      " |  \n",
      " |  getWinName(...)\n",
      " |      std::string __cppyy_internal::Dispatcher1::getWinName()\n",
      " |  \n",
      " |  loadAllParamsDatasets(...)\n",
      " |      void __cppyy_internal::Dispatcher1::loadAllParamsDatasets()\n",
      " |  \n",
      " |  ----------------------------------------------------------------------\n",
      " |  Data and other attributes defined here:\n",
      " |  \n",
      " |  __cpp_cross__ = 'Session'\n",
      " |  \n",
      " |  ----------------------------------------------------------------------\n",
      " |  Methods inherited from cppyy.gbl.Session:\n",
      " |  \n",
      " |  CloseAllDatasets(...)\n",
      " |      void Session::CloseAllDatasets()\n",
      " |  \n",
      " |  CloseDataset(...)\n",
      " |      void Session::CloseDataset(String name)\n",
      " |  \n",
      " |  GetDatasetNames(...)\n",
      " |      std::vector<std::string> Session::GetDatasetNames()\n",
      " |  \n",
      " |  GetPythonWinName(...)\n",
      " |      std::string Session::GetPythonWinName()\n",
      " |  \n",
      " |  GetRendererNames(...)\n",
      " |      std::vector<std::string> Session::GetRendererNames()\n",
      " |  \n",
      " |  GetTimesteps(...)\n",
      " |      int Session::GetTimesteps()\n",
      " |  \n",
      " |  Load(...)\n",
      " |      int Session::Load(String path)\n",
      " |  \n",
      " |  Render(...)\n",
      " |      int Session::Render(String imagePath, bool fast = false)\n",
      " |  \n",
      " |  Reset(...)\n",
      " |      void Session::Reset()\n",
      " |  \n",
      " |  Save(...)\n",
      " |      int Session::Save(String path)\n",
      " |  \n",
      " |  SetTimestep(...)\n",
      " |      void Session::SetTimestep(int ts)\n",
      " |  \n",
      " |  SetWaspMyBaseErrMsgFilePtrToSTDERR(...)\n",
      " |      static void Session::SetWaspMyBaseErrMsgFilePtrToSTDERR()\n",
      " |  \n",
      " |  __assign__(...)\n",
      " |      Session& Session::operator=(const Session&)\n",
      " |  \n",
      " |  ----------------------------------------------------------------------\n",
      " |  Data descriptors inherited from cppyy.gbl.Session:\n",
      " |  \n",
      " |  __dict__\n",
      " |      dictionary for instance variables (if defined)\n",
      " |  \n",
      " |  __weakref__\n",
      " |      list of weak references to the object (if defined)\n",
      " |  \n",
      " |  ----------------------------------------------------------------------\n",
      " |  Methods inherited from cppyy.gbl.CPPInstance:\n",
      " |  \n",
      " |  __add__(self, value, /)\n",
      " |      Return self+value.\n",
      " |  \n",
      " |  __bool__(self, /)\n",
      " |      True if self else False\n",
      " |  \n",
      " |  __destruct__(...)\n",
      " |      call the C++ destructor\n",
      " |  \n",
      " |  __dispatch__(...)\n",
      " |      dispatch to selected overload\n",
      " |  \n",
      " |  __eq__(self, value, /)\n",
      " |      Return self==value.\n",
      " |  \n",
      " |  __ge__(self, value, /)\n",
      " |      Return self>=value.\n",
      " |  \n",
      " |  __getitem__(...)\n",
      " |      pointer dereferencing\n",
      " |  \n",
      " |  __gt__(self, value, /)\n",
      " |      Return self>value.\n",
      " |  \n",
      " |  __hash__(self, /)\n",
      " |      Return hash(self).\n",
      " |  \n",
      " |  __invert__(self, /)\n",
      " |      ~self\n",
      " |  \n",
      " |  __le__(self, value, /)\n",
      " |      Return self<=value.\n",
      " |  \n",
      " |  __lt__(self, value, /)\n",
      " |      Return self<value.\n",
      " |  \n",
      " |  __mul__(self, value, /)\n",
      " |      Return self*value.\n",
      " |  \n",
      " |  __ne__(self, value, /)\n",
      " |      Return self!=value.\n",
      " |  \n",
      " |  __neg__(self, /)\n",
      " |      -self\n",
      " |  \n",
      " |  __pos__(self, /)\n",
      " |      +self\n",
      " |  \n",
      " |  __radd__(self, value, /)\n",
      " |      Return value+self.\n",
      " |  \n",
      " |  __repr__(self, /)\n",
      " |      Return repr(self).\n",
      " |  \n",
      " |  __rmul__(self, value, /)\n",
      " |      Return value*self.\n",
      " |  \n",
      " |  __rsub__(self, value, /)\n",
      " |      Return value-self.\n",
      " |  \n",
      " |  __rtruediv__(self, value, /)\n",
      " |      Return value/self.\n",
      " |  \n",
      " |  __smartptr__(...)\n",
      " |      get associated smart pointer, if any\n",
      " |  \n",
      " |  __str__(self, /)\n",
      " |      Return str(self).\n",
      " |  \n",
      " |  __sub__(self, value, /)\n",
      " |      Return self-value.\n",
      " |  \n",
      " |  __truediv__(self, value, /)\n",
      " |      Return self/value.\n",
      " |  \n",
      " |  ----------------------------------------------------------------------\n",
      " |  Static methods inherited from cppyy.gbl.CPPInstance:\n",
      " |  \n",
      " |  __new__(*args, **kwargs) from cppyy.CPPScope\n",
      " |      Create and return a new object.  See help(type) for accurate signature.\n",
      " |  \n",
      " |  ----------------------------------------------------------------------\n",
      " |  Data descriptors inherited from cppyy.gbl.CPPInstance:\n",
      " |  \n",
      " |  __python_owns__\n",
      " |      If true, python manages the life time of this object\n",
      "\n"
     ]
    }
   ],
   "source": [
    "help(session.Session)\n",
    "\n",
    "# Renderer  - help(renderer.Renderer)\n",
    "# Camera    - help(camera.Camera)\n",
    "# Animation - help(animation.Amimation)\n",
    "# https://ncar.github.io/VaporDocumentationWebsite/pythonAPIReference/classReference.html"
   ]
  },
  {
   "cell_type": "markdown",
   "id": "9f7a839a-674a-460b-afaa-556436602001",
   "metadata": {},
   "source": [
    "## Load data"
   ]
  },
  {
   "cell_type": "code",
   "execution_count": 4,
   "id": "270010fc-e6ee-4c75-ba20-c71941c2e05b",
   "metadata": {},
   "outputs": [
    {
     "name": "stdout",
     "output_type": "stream",
     "text": [
      "/Users/pearse/Downloads/AGU2023/data/wrfout_met_d02_2020-10-22_12:00:00.slab\n",
      "/Users/pearse/Downloads/AGU2023/data/wrfout_met_d02_2020-10-22_17:00:00.slab\n",
      "/Users/pearse/Downloads/AGU2023/data/wrfout_met_d02_2020-10-22_10:00:00.slab\n",
      "/Users/pearse/Downloads/AGU2023/data/wrfout_met_d02_2020-10-22_18:00:00.slab\n",
      "/Users/pearse/Downloads/AGU2023/data/wrfout_met_d02_2020-10-22_15:00:00.slab\n",
      "/Users/pearse/Downloads/AGU2023/data/wrfout_met_d02_2020-10-22_16:00:00.slab\n",
      "/Users/pearse/Downloads/AGU2023/data/wrfout_met_d02_2020-10-22_13:00:00.slab\n",
      "/Users/pearse/Downloads/AGU2023/data/wrfout_met_d02_2020-10-22_14:00:00.slab\n",
      "/Users/pearse/Downloads/AGU2023/data/wrfout_met_d02_2020-10-22_11:00:00.slab\n"
     ]
    }
   ],
   "source": [
    "from pathlib import Path\n",
    "myPath  = homeDir + \"/data\"\n",
    "myFiles = [str(file) for file in Path(myPath).rglob('*')]\n",
    "\n",
    "for file_path in myFiles:\n",
    "    print(file_path)\n",
    "\n",
    "from vapor import dataset\n",
    "data = ses.OpenDataset(dataset.WRF, myFiles)"
   ]
  },
  {
   "cell_type": "markdown",
   "id": "bb2fe890-ecc7-4522-b56f-5e2bfd8df075",
   "metadata": {},
   "source": [
    "## Show dataset metadata"
   ]
  },
  {
   "cell_type": "markdown",
   "id": "c7c0c293-bc09-49bf-b3a0-e9a1857719e3",
   "metadata": {},
   "source": [
    "### Coordinate variables"
   ]
  },
  {
   "cell_type": "code",
   "execution_count": 5,
   "id": "43bce3bf-19d7-4b39-822e-ca98d3a88ea2",
   "metadata": {},
   "outputs": [
    {
     "name": "stdout",
     "output_type": "stream",
     "text": [
      "Time Coordinate Variable Name: Time\n",
      "Coordinate Variable Names: ['Time', 'XLAT', 'XLAT_U', 'XLAT_V', 'XLONG', 'XLONG_U', 'XLONG_V', 'bottom_top', 'bottom_top_stag', 'Elevation', 'ElevationU', 'ElevationV', 'ElevationW', 'XLATY', 'XLAT_UY', 'XLAT_VY', 'XLONGX', 'XLONG_UX', 'XLONG_VX']\n"
     ]
    }
   ],
   "source": [
    "print(\"Time Coordinate Variable Name:\", data.GetTimeCoordVarName())\n",
    "print(\"Coordinate Variable Names:\", data.GetCoordVarNames())"
   ]
  },
  {
   "cell_type": "markdown",
   "id": "c8899419-e886-40af-a853-be12f3dd8105",
   "metadata": {},
   "source": [
    "### Variables"
   ]
  },
  {
   "cell_type": "code",
   "execution_count": 6,
   "id": "b63e21fa-783b-4497-9d7d-6ec5e97586f7",
   "metadata": {},
   "outputs": [
    {
     "name": "stdout",
     "output_type": "stream",
     "text": [
      "Data Variables:\n",
      "  FIRE_AREA\n",
      "    Time Varying: True\n",
      "    Dimensionality: 2\n",
      "    Coordinates: ['XLONGX', 'XLATY']\n",
      "     Data Range: [0.0, 1.0]\n",
      "  HGT\n",
      "    Time Varying: True\n",
      "    Dimensionality: 2\n",
      "    Coordinates: ['XLONGX', 'XLATY']\n",
      "     Data Range: [2244.004638671875, 4026.545654296875]\n",
      "  PH\n",
      "    Time Varying: True\n",
      "    Dimensionality: 3\n",
      "    Coordinates: ['XLONGX', 'XLATY', 'ElevationW']\n",
      "     Data Range: [0.0, 765.3257446289062]\n",
      "  PHB\n",
      "    Time Varying: True\n",
      "    Dimensionality: 3\n",
      "    Coordinates: ['XLONGX', 'XLATY', 'ElevationW']\n",
      "     Data Range: [22013.685546875, 52509.6484375]\n",
      "  U\n",
      "    Time Varying: True\n",
      "    Dimensionality: 3\n",
      "    Coordinates: ['XLONG_UX', 'XLAT_UY', 'ElevationU']\n",
      "     Data Range: [-13.070408821105957, 38.378875732421875]\n",
      "  V\n",
      "    Time Varying: True\n",
      "    Dimensionality: 3\n",
      "    Coordinates: ['XLONG_VX', 'XLAT_VY', 'ElevationV']\n",
      "     Data Range: [-14.471896171569824, 20.526811599731445]\n",
      "  W\n",
      "    Time Varying: True\n",
      "    Dimensionality: 3\n",
      "    Coordinates: ['XLONGX', 'XLATY', 'ElevationW']\n",
      "     Data Range: [-11.834917068481445, 11.622491836547852]\n",
      "  fire_smoke\n",
      "    Time Varying: True\n",
      "    Dimensionality: 3\n",
      "    Coordinates: ['XLONGX', 'XLATY', 'Elevation']\n",
      "     Data Range: [-4.964304935128894e-06, 0.0457780659198761]\n"
     ]
    }
   ],
   "source": [
    "print(\"Data Variables:\")\n",
    "for var in data.GetDataVarNames():\n",
    "    print(f\"  {var}\")\n",
    "    print(f\"    Time Varying:\", bool(data.IsTimeVarying(var)))\n",
    "    print(f\"    Dimensionality:\", data.GetVarGeometryDim(var))\n",
    "    print(f\"    Coordinates:\", data.GetVarCoordVars(var, True))\n",
    "    print(\"     Data Range:\", data.GetDataRange(var))"
   ]
  },
  {
   "cell_type": "markdown",
   "id": "0d2e8aa3-bb2e-4ba0-b032-ad785c986f0a",
   "metadata": {},
   "source": [
    "## Create a 2D Data renderer"
   ]
  },
  {
   "cell_type": "code",
   "execution_count": 7,
   "id": "7a171769-b971-410b-8c58-c1fd6d7741e6",
   "metadata": {},
   "outputs": [],
   "source": [
    "from vapor import renderer\n",
    "ren = data.NewRenderer(renderer.TwoDDataRenderer)\n",
    "ren.SetVariableName(\"FIRE_AREA\") # Set to first 2D data variable"
   ]
  },
  {
   "cell_type": "markdown",
   "id": "1c2bf095-91b9-4bb1-8380-72827ae5c8d9",
   "metadata": {},
   "source": [
    "## Show the renderer"
   ]
  },
  {
   "cell_type": "code",
   "execution_count": 8,
   "id": "a0a18a8e-f522-469f-ba8b-1aa287bf3944",
   "metadata": {},
   "outputs": [
    {
     "data": {
      "image/png": "[encoded data removed]",
      "text/plain": [
       "<PIL.Image.Image image mode=RGB size=600x480>"
      ]
     },
     "metadata": {},
     "output_type": "display_data"
    }
   ],
   "source": [
    "ses.Show()"
   ]
  },
  {
   "cell_type": "markdown",
   "id": "52c9a945-52b2-43df-8809-b667e6dbcaba",
   "metadata": {},
   "source": [
    "## Apply a height variable"
   ]
  },
  {
   "cell_type": "code",
   "execution_count": 9,
   "id": "4c47303e-6495-4eab-b836-80f342658ec6",
   "metadata": {},
   "outputs": [
    {
     "data": {
      "image/png": "[encoded data removed]",
      "text/plain": [
       "<PIL.Image.Image image mode=RGB size=600x480>"
      ]
     },
     "metadata": {},
     "output_type": "display_data"
    }
   ],
   "source": [
    "ren.SetHeightVariableName(\"HGT\")\n",
    "ses.Show()"
   ]
  },
  {
   "cell_type": "markdown",
   "id": "e48055d8-b782-465a-a833-3f3b8e4a6777",
   "metadata": {},
   "source": [
    "## Create an interactive Visualizer with VaporVisualizerWidget()"
   ]
  },
  {
   "cell_type": "code",
   "execution_count": 10,
   "id": "2d844d0b-a7fd-467b-8f48-785e6e99f540",
   "metadata": {},
   "outputs": [
    {
     "data": {
      "application/vnd.jupyter.widget-view+json": {
       "model_id": "408f2b3ced124c93ba7cae095b251a19",
       "version_major": 2,
       "version_minor": 0
      },
      "text/plain": [
       "VaporVisualizerWidget(imageData='/9j/4AAQSkZJRgABAQAAAQABAAD/2wBDAAgGBgcGBQgHBwcJCQgKDBQNDAsLDBkSEw8UHRofHh0aH…"
      ]
     },
     "execution_count": 10,
     "metadata": {},
     "output_type": "execute_result"
    }
   ],
   "source": [
    "from jupyter_vapor_widget import *\n",
    "viz = VaporVisualizerWidget(ses)\n",
    "viz.Render()\n",
    "viz"
   ]
  },
  {
   "cell_type": "markdown",
   "id": "c14ed9cd-af19-442c-965a-a26aac0ff444",
   "metadata": {},
   "source": [
    "## Show a Transfer Function"
   ]
  },
  {
   "cell_type": "code",
   "execution_count": 11,
   "id": "2b41f7f7-554f-44f2-b377-9b253bec91f3",
   "metadata": {
    "scrolled": true
   },
   "outputs": [
    {
     "data": {
      "image/png": "[encoded data removed]",
      "text/plain": [
       "<Figure size 640x480 with 1 Axes>"
      ]
     },
     "metadata": {},
     "output_type": "display_data"
    }
   ],
   "source": [
    "from vapor import utils\n",
    "utils.ShowMatPlotLibHistogram(ses, ren)"
   ]
  },
  {
   "cell_type": "markdown",
   "id": "b80e7285-c948-45ce-a75b-8ddfeec2576b",
   "metadata": {},
   "source": [
    "## Apply opacity to a Transfer Function"
   ]
  },
  {
   "cell_type": "code",
   "execution_count": 12,
   "id": "bbe60999-6fec-4c02-9074-af46bfd4eb98",
   "metadata": {},
   "outputs": [
    {
     "data": {
      "image/png": "[encoded data removed]",
      "text/plain": [
       "<Figure size 640x480 with 1 Axes>"
      ]
     },
     "metadata": {},
     "output_type": "display_data"
    }
   ],
   "source": [
    "plt = utils.GetMatPlotLibHistogram(ses, ren)\n",
    "opacities = [(0.2, 0), (0.8, 1)]\n",
    "plt.plot(*zip(*opacities))\n",
    "plt.show()"
   ]
  },
  {
   "cell_type": "markdown",
   "id": "75dc52f2-3764-487e-b351-ab427747140e",
   "metadata": {},
   "source": [
    "## Render the current Session in an interactive Visualizer"
   ]
  },
  {
   "cell_type": "code",
   "execution_count": 13,
   "id": "42b729b8-ebda-4479-a38a-c806c1920a88",
   "metadata": {
    "scrolled": true
   },
   "outputs": [
    {
     "data": {
      "application/vnd.jupyter.widget-view+json": {
       "model_id": "408f2b3ced124c93ba7cae095b251a19",
       "version_major": 2,
       "version_minor": 0
      },
      "text/plain": [
       "VaporVisualizerWidget(imageData='/9j/4AAQSkZJRgABAQAAAQABAAD/2wBDAAgGBgcGBQgHBwcJCQgKDBQNDAsLDBkSEw8UHRofHh0aH…"
      ]
     },
     "execution_count": 13,
     "metadata": {},
     "output_type": "execute_result"
    }
   ],
   "source": [
    "tf = ren.GetPrimaryTransferFunction()\n",
    "tf.SetOpacityControlPoints(opacities)\n",
    "viz.Render()\n",
    "viz"
   ]
  },
  {
   "cell_type": "markdown",
   "id": "21a2081e-7b40-451c-8c78-c2a217052b1c",
   "metadata": {},
   "source": [
    "## Load a builtin Transfer Function"
   ]
  },
  {
   "cell_type": "code",
   "execution_count": 14,
   "id": "7ca9a79d-c931-40dc-9b10-ca4210e13a5b",
   "metadata": {},
   "outputs": [
    {
     "data": {
      "application/vnd.jupyter.widget-view+json": {
       "model_id": "408f2b3ced124c93ba7cae095b251a19",
       "version_major": 2,
       "version_minor": 0
      },
      "text/plain": [
       "VaporVisualizerWidget(imageData='/9j/4AAQSkZJRgABAQAAAQABAAD/2wBDAAgGBgcGBQgHBwcJCQgKDBQNDAsLDBkSEw8UHRofHh0aH…"
      ]
     },
     "execution_count": 14,
     "metadata": {},
     "output_type": "execute_result"
    }
   ],
   "source": [
    "tf.LoadBuiltinColormap(\"Sequential/BlackBody\")\n",
    "viz.Render()\n",
    "viz"
   ]
  },
  {
   "cell_type": "markdown",
   "id": "06e17cb5-2fa6-4b2a-a6b5-621a7c81ef1d",
   "metadata": {},
   "source": [
    "## Load a Transfer Function that was configured in VAPOR"
   ]
  },
  {
   "cell_type": "code",
   "execution_count": 16,
   "id": "1e69a85e-64fa-489e-a90a-3d26447f10f0",
   "metadata": {
    "scrolled": true
   },
   "outputs": [
    {
     "data": {
      "application/vnd.jupyter.widget-view+json": {
       "model_id": "408f2b3ced124c93ba7cae095b251a19",
       "version_major": 2,
       "version_minor": 0
      },
      "text/plain": [
       "VaporVisualizerWidget(imageData='/9j/4AAQSkZJRgABAQAAAQABAAD/2wBDAAgGBgcGBQgHBwcJCQgKDBQNDAsLDBkSEw8UHRofHh0aH…"
      ]
     },
     "execution_count": 16,
     "metadata": {},
     "output_type": "execute_result"
    }
   ],
   "source": [
    "tf.LoadColormapFromFile( homeDir + \"/fireArea.tf3\")\n",
    "viz.Render()\n",
    "viz"
   ]
  },
  {
   "cell_type": "markdown",
   "id": "6d2318bf-05bf-4afa-b6a6-93876362c494",
   "metadata": {},
   "source": [
    "## Interactive Sliders - Open visualizer_widget_example.ipynb"
   ]
  },
  {
   "cell_type": "markdown",
   "id": "11452b16-f820-408f-a9a7-42208d6c57ea",
   "metadata": {},
   "source": [
    "## *** Back to VAPOR for DVR and Python Engine ***"
   ]
  },
  {
   "cell_type": "markdown",
   "id": "f9d7950e-0fb1-47b2-baaf-91392498c9ec",
   "metadata": {},
   "source": [
    "## Timeseries Animation"
   ]
  },
  {
   "cell_type": "code",
   "execution_count": null,
   "id": "c70ab08b-69fe-4edb-b16f-4bff8d6021e5",
   "metadata": {
    "scrolled": true
   },
   "outputs": [],
   "source": [
    "%%time\n",
    "from vapor.animation import Animation\n",
    "ses.Load( homeDir + \"/et_1.vs3\")\n",
    "anim = Animation(ses)\n",
    "timesteps = ses.GetTimesteps()\n",
    "for ts in range(0, timesteps):\n",
    "    ses.SetTimestep(ts)\n",
    "    anim.CaptureFrame()\n",
    "anim.ShowInteractive()"
   ]
  },
  {
   "cell_type": "markdown",
   "id": "20ecc23a-188d-409c-b1c0-f4138d4607a8",
   "metadata": {},
   "source": [
    "## Keyframing"
   ]
  },
  {
   "cell_type": "code",
   "execution_count": null,
   "id": "066fd9f1-8780-4f5e-8b90-3f6918d4616e",
   "metadata": {},
   "outputs": [],
   "source": [
    "# Import necessary modules\n",
    "\n",
    "from vapor import session, camera"
   ]
  },
  {
   "cell_type": "code",
   "execution_count": null,
   "id": "fcdbc4af-870d-4fee-83bc-94a77c608126",
   "metadata": {},
   "outputs": [],
   "source": [
    "# Acquire the camera settings from an initial session file\n",
    "\n",
    "ses1 = session.Session()\n",
    "#ses1.Load(\"/Users/pearse/Examples/eastTroublesome/et_1.vs3\")\n",
    "ses1.Load(homeDir + \"/et_1.vs3\")\n",
    "#ses1.Load(\"~/Examples/eastTroublesome/et_1.vs3\")\n",
    "\n",
    "cam1 = ses1.GetCamera()\n",
    "dir1 = cam1.GetDirection()\n",
    "pos1 = cam1.GetPosition()\n",
    "up1 = cam1.GetUp()"
   ]
  },
  {
   "cell_type": "code",
   "execution_count": null,
   "id": "14319fae-3f92-4216-a3e6-54cdb62eab51",
   "metadata": {},
   "outputs": [],
   "source": [
    "# Acquire the camera settings from a secondary session file that we will transition into\n",
    "\n",
    "ses2 = session.Session()\n",
    "ses2.Load( homeDir + \"/et_2.vs3\")\n",
    "cam2 = ses2.GetCamera()\n",
    "dir2 = cam2.GetDirection()\n",
    "pos2 = cam2.GetPosition()\n",
    "up2 = cam2.GetUp()"
   ]
  },
  {
   "cell_type": "code",
   "execution_count": null,
   "id": "5fc42064-a963-4651-8a62-b45da8934c53",
   "metadata": {},
   "outputs": [],
   "source": [
    "# Difference between camera positions on each axis\n",
    "dPositionX  = (pos2[0] - pos1[0])\n",
    "dPositionY  = (pos2[1] - pos1[1])\n",
    "dPositionZ  = (pos2[2] - pos1[2])\n",
    "\n",
    "# Difference between camera direction vectors on each axis\n",
    "dDirectionX = (dir2[0] - dir1[0])\n",
    "dDirectionY = (dir2[1] - dir1[1])\n",
    "dDirectionZ = (dir2[2] - dir1[2])\n",
    "\n",
    "# Difference between camera up vectors on each axis\n",
    "dUpX        = (up2[0] - up1[0])\n",
    "dUpY        = (up2[1] - up1[1])\n",
    "dUpZ        = (up2[2] - up1[2])"
   ]
  },
  {
   "cell_type": "code",
   "execution_count": null,
   "id": "f0c7c710-307d-48a9-a91d-9dcaae8ca9b4",
   "metadata": {},
   "outputs": [],
   "source": [
    "# Perform a linear interoplation between the Camera's start position, direction, and up vector\n",
    "\n",
    "steps=50\n",
    "for i in range(0,steps):\n",
    "    position = [\n",
    "        pos1[0]+dPositionX*i/steps,\n",
    "        pos1[1]+dPositionY*i/steps,\n",
    "        pos1[2]+dPositionZ*i/steps\n",
    "    ]\n",
    "    cam1.SetPosition( position )\n",
    "\n",
    "    direction = [\n",
    "        dir1[0]+dDirectionX*i/steps,\n",
    "        dir1[1]+dDirectionY*i/steps,\n",
    "        dir1[2]+dDirectionZ*i/steps\n",
    "    ]\n",
    "    cam1.SetDirection( direction )\n",
    "\n",
    "    up = [\n",
    "        up1[0]+dUpX*i/steps,\n",
    "        up1[1]+dUpY*i/steps,\n",
    "        up1[2]+dUpZ*i/steps\n",
    "    ]\n",
    "    cam1.SetUp( up )\n",
    "    ses1.Render( homeDir + \"captures/\" + str(i) + \".png\")"
   ]
  },
  {
   "cell_type": "markdown",
   "id": "67500a31-57bd-44c1-b6f5-46c1ee3339eb",
   "metadata": {},
   "source": [
    "## Camera Orbit"
   ]
  },
  {
   "cell_type": "code",
   "execution_count": null,
   "id": "09425475-73b3-4e68-9dae-e84b7f49f181",
   "metadata": {},
   "outputs": [],
   "source": [
    "# Import necessary modules\n",
    "\n",
    "import cv2, os\n",
    "from vapor import session, animation\n",
    "from numpy import cross, eye, dot, radians, asarray, array\n",
    "from scipy.linalg import expm, norm\n",
    "UseValueFromSessionFile = None"
   ]
  },
  {
   "cell_type": "code",
   "execution_count": null,
   "id": "987f0235-e3f6-4058-bb02-c83baa26a5a8",
   "metadata": {},
   "outputs": [],
   "source": [
    "# Configure various parameters for rotating the camera around the scene\n",
    "session_path = homeDir + \"/et_2.vs3\"\n",
    "output = \"rotation.mp4\"\n",
    "video_framerate = 30\n",
    "video_resolution = (640, 480)\n",
    "data_timestep_framerate = 0  # set to zero to disable\n",
    "duration = 4  # seconds\n",
    "rotate_speed = 45  # deg/s\n",
    "rotation_axis = [0,0,1]  # Z (up)\n",
    "rotation_center = UseValueFromSessionFile  # Can be replaced with [x,y,z] coordinates here\n",
    "save_individual_frames = False"
   ]
  },
  {
   "cell_type": "code",
   "execution_count": null,
   "id": "bb86efd1-bfec-4a39-91e0-8d636e9491ab",
   "metadata": {},
   "outputs": [],
   "source": [
    "# Configure our session according to the parameters that were defined above\n",
    "\n",
    "session_path, output = [os.path.expanduser(p) for p in (session_path, output)]\n",
    "n_frames = video_framerate * duration\n",
    "\n",
    "ses = session.Session()\n",
    "ses.Load(session_path)\n",
    "ses.SetResolution(*video_resolution)\n",
    "cam = ses.GetCamera()\n",
    "pos, dir, up, tgt = [asarray(x) for x in [cam.GetPosition(), cam.GetDirection(), cam.GetUp(), cam.GetTarget()]]\n",
    "if rotation_center:\n",
    "    tgt = asarray(rotation_center)"
   ]
  },
  {
   "cell_type": "code",
   "execution_count": null,
   "id": "17eee996-8dcd-469a-9359-61935ea74441",
   "metadata": {},
   "outputs": [],
   "source": [
    "# Define a function that returns a matrix exponential for rotating the camera \n",
    "\n",
    "def rotation_matrix(axis, theta):\n",
    "    return expm(cross(eye(3), axis / norm(axis) * theta))"
   ]
  },
  {
   "cell_type": "code",
   "execution_count": null,
   "id": "f0cb3e4b-d2d3-4e27-ae0f-89ca25736a9e",
   "metadata": {},
   "outputs": [],
   "source": [
    "anim = animation.Animation(ses)\n",
    "for i in range(0, n_frames):\n",
    "    print(f\"Rendering... [{'#'*round(40*i/(n_frames-1))}{' '*round(40*(1-i/(n_frames-1)))}] {100*(i+1)/n_frames:.0f}%\", end=\"\\r\" if i < n_frames-1 else \"\\n\")\n",
    "\n",
    "    ses.SetTimestep(int(data_timestep_framerate * i / video_framerate))\n",
    "\n",
    "    M = rotation_matrix(rotation_axis, radians(rotate_speed) * i / video_framerate)\n",
    "    cam.SetPosition(dot(M, pos - tgt) + tgt)\n",
    "    cam.SetDirection(dot(M, dir))\n",
    "    cam.SetUp(dot(M, up))\n",
    "    anim.CaptureFrame()\n",
    "    if save_individual_frames:\n",
    "        ses.Render(f\"{output}_{i:04}.png\")\n",
    "\n",
    "anim.SaveMP4(output, video_framerate)"
   ]
  }
 ],
 "metadata": {
  "kernelspec": {
   "display_name": "Python 3 (ipykernel)",
   "language": "python",
   "name": "python3"
  },
  "language_info": {
   "codemirror_mode": {
    "name": "ipython",
    "version": 3
   },
   "file_extension": ".py",
   "mimetype": "text/x-python",
   "name": "python",
   "nbconvert_exporter": "python",
   "pygments_lexer": "ipython3",
   "version": "3.9.18"
  }
 },
 "nbformat": 4,
 "nbformat_minor": 5
}
